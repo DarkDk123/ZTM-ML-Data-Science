{
 "cells": [
  {
   "cell_type": "markdown",
   "metadata": {},
   "source": [
    "## **NumPy - Numerical Python for Number Processing** \n",
    "\n",
    "NumPy is a Library for Processing Large amount of numerical data quickly with ease.\n",
    "\n",
    "* NumPy is **too Fast** as compared to built-in python methods for Number Processing\n",
    "* It is used **under the hood** in many other Data-Science & Scientific computing packages as a **Base.**\n",
    "* It uses vectorization (Avoids Loops) to optimize the processing.\n",
    "* NumPy Provides robust Data Structures and their methods to work with Numerical Data. (ndArrays)\n",
    "  \n",
    "**We'll Learn many things :**\n",
    "1. Most Used NumPy Data Types & Methods.\n",
    "2. Creating NumPy Arrays (ndArrays).\n",
    "3. Creating Multi-dimensional Arrays.\n",
    "4. Viewing and Selecting NumPy Arrays distinctly.\n",
    "5. Manipulating Data with these Arrays & many more.\n",
    "\n",
    "* [Official NumPy Documentation](https://numpy.org/doc/stable/user/) ✅\n",
    "\n",
    "### `Let's Get Started!!` \n",
    "![](https://media.giphy.com/media/0zTmMFCAknk3nsoOFQ/giphy.gif)"
   ]
  },
  {
   "cell_type": "code",
   "execution_count": 1,
   "metadata": {},
   "outputs": [],
   "source": [
    "import numpy as np"
   ]
  },
  {
   "cell_type": "markdown",
   "metadata": {},
   "source": [
    "## Data Types & Attributes -\n",
    "\n",
    "* **ndarray :** is the main Data Type of NumPy.\n",
    "* ndarray is a Linear Data Structure containing sequences of Numbers mainly.\n",
    "\n",
    "* ndarray refers to **N-Dimensional Arrays**."
   ]
  },
  {
   "cell_type": "code",
   "execution_count": 3,
   "metadata": {},
   "outputs": [
    {
     "data": {
      "text/plain": [
       "array([1, 2, 3])"
      ]
     },
     "execution_count": 3,
     "metadata": {},
     "output_type": "execute_result"
    }
   ],
   "source": [
    "# Creating NumPy's ndarray from python list.\n",
    "ar_1 = np.array([1, 2, 3])\n",
    "ar_1"
   ]
  },
  {
   "cell_type": "code",
   "execution_count": 4,
   "metadata": {},
   "outputs": [
    {
     "data": {
      "text/plain": [
       "numpy.ndarray"
      ]
     },
     "execution_count": 4,
     "metadata": {},
     "output_type": "execute_result"
    }
   ],
   "source": [
    "type(ar_1) # Type of this array."
   ]
  },
  {
   "cell_type": "markdown",
   "metadata": {},
   "source": [
    "**Multi-Dimensional Arrays**"
   ]
  },
  {
   "cell_type": "code",
   "execution_count": 5,
   "metadata": {},
   "outputs": [],
   "source": [
    "# 2D Array\n",
    "ar_2 = np.array(\n",
    "    [[1, 2, 3],\n",
    "     [4, 5, 6],\n",
    "     [7, 8, 9]]\n",
    ")\n",
    "\n",
    "# 3D Array\n",
    "ar_3 = np.array(\n",
    "    [[\n",
    "        [1, 2, 3],\n",
    "        [4, 5, 6],\n",
    "        [7, 8, 9]\n",
    "     ],\n",
    "     [\n",
    "        [2, 4, 6],\n",
    "        [8, 10, 12],\n",
    "        [14, 16, 18]\n",
    "     ]\n",
    "    ]\n",
    ")"
   ]
  },
  {
   "cell_type": "code",
   "execution_count": 12,
   "metadata": {},
   "outputs": [
    {
     "data": {
      "text/plain": [
       "array([[1, 2, 3],\n",
       "       [4, 5, 6],\n",
       "       [7, 8, 9]])"
      ]
     },
     "execution_count": 12,
     "metadata": {},
     "output_type": "execute_result"
    }
   ],
   "source": [
    "## View our arrays\n",
    "## Our 2D Array\n",
    "ar_2"
   ]
  },
  {
   "cell_type": "code",
   "execution_count": 13,
   "metadata": {},
   "outputs": [
    {
     "data": {
      "text/plain": [
       "array([[[ 1,  2,  3],\n",
       "        [ 4,  5,  6],\n",
       "        [ 7,  8,  9]],\n",
       "\n",
       "       [[ 2,  4,  6],\n",
       "        [ 8, 10, 12],\n",
       "        [14, 16, 18]]])"
      ]
     },
     "execution_count": 13,
     "metadata": {},
     "output_type": "execute_result"
    }
   ],
   "source": [
    "## Our 3D Array\n",
    "ar_3"
   ]
  },
  {
   "cell_type": "markdown",
   "metadata": {},
   "source": [
    "## **The Anatomy of a NumPy Array.**\n",
    "\n",
    "<img src=\"./Images/NumPy_anatomy.png\" width=80%>"
   ]
  },
  {
   "cell_type": "code",
   "execution_count": null,
   "metadata": {},
   "outputs": [],
   "source": []
  }
 ],
 "metadata": {
  "kernelspec": {
   "display_name": "Python 3",
   "language": "python",
   "name": "python3"
  },
  "language_info": {
   "codemirror_mode": {
    "name": "ipython",
    "version": 3
   },
   "file_extension": ".py",
   "mimetype": "text/x-python",
   "name": "python",
   "nbconvert_exporter": "python",
   "pygments_lexer": "ipython3",
   "version": "3.11.4"
  },
  "orig_nbformat": 4
 },
 "nbformat": 4,
 "nbformat_minor": 2
}
